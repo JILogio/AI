{
 "cells": [
  {
   "cell_type": "markdown",
   "metadata": {},
   "source": [
    "## Monty Hall Problem\n",
    "\n",
    "#### The game involves three doors, given that behind one of these doors is a car and the remaining two have goats behind them. So you start by picking a random door, say #2. On the other hand, the host knows where the car is hidden and he opens another door, say #1 (behind which there is a goat). Here's the catch, you're now given a choice, the host will ask you if you want to pick door #3 instead of your first choice, i.e. #2. Is it better if you switch your choice or should you stick to your first choice?"
   ]
  },
  {
   "cell_type": "code",
   "execution_count": 1,
   "metadata": {},
   "outputs": [],
   "source": [
    "import numpy as np\n",
    "import torch\n",
    "from torchegranate.distributions import Categorical\n",
    "from torchegranate.distributions import ConditionalCategorical\n",
    "from torchegranate.bayesian_network import BayesianNetwork\n",
    "\n",
    "guest = Categorical([[1./3, 1./3, 1./3]])  # The door selected by the guest is completely random\n",
    "prize = Categorical([[1./3, 1./3, 1./3]])  # The door containing the prize is also a random process\n",
    "monty = ConditionalCategorical(np.array([[ # The door selected by Monty depends on guest and prize\n",
    "     [[0.0, 0.5, 0.5], [0.0, 0.0, 1.0], [0.0, 1.0, 0.0]], # 00, 01, 02\n",
    "     [[0.0, 0.0, 1.0], [0.5, 0.0, 0.5], [1.0, 0.0, 0.0]], # 10, 11, 12\n",
    "     [[0.0, 1.0, 0.0], [1.0, 0.0, 0.0], [0.5, 0.5, 0.0]]  # 20, 21, 22\n",
    "]]))\n",
    "\n",
    "model = BayesianNetwork([guest, prize, monty], [(guest, monty), (prize, monty)])"
   ]
  },
  {
   "cell_type": "code",
   "execution_count": 15,
   "metadata": {},
   "outputs": [
    {
     "data": {
      "text/plain": [
       "tensor([[2, 0, 1]])"
      ]
     },
     "execution_count": 15,
     "metadata": {},
     "output_type": "execute_result"
    }
   ],
   "source": [
    "X = torch.masked.masked_tensor(torch.tensor([[2, 0, 1]]), mask=torch.tensor([[True, False, True]]));\n",
    "model.predict(X)"
   ]
  },
  {
   "cell_type": "code",
   "execution_count": 16,
   "metadata": {},
   "outputs": [
    {
     "data": {
      "text/plain": [
       "[tensor([[0., 0., 1.]]),\n",
       " tensor([[0.6667, 0.0000, 0.3333]]),\n",
       " tensor([[0., 1., 0.]])]"
      ]
     },
     "execution_count": 16,
     "metadata": {},
     "output_type": "execute_result"
    }
   ],
   "source": [
    "model.predict_proba(X)"
   ]
  }
 ],
 "metadata": {
  "kernelspec": {
   "display_name": "Python 3",
   "language": "python",
   "name": "python3"
  },
  "language_info": {
   "codemirror_mode": {
    "name": "ipython",
    "version": 3
   },
   "file_extension": ".py",
   "mimetype": "text/x-python",
   "name": "python",
   "nbconvert_exporter": "python",
   "pygments_lexer": "ipython3",
   "version": "3.12.1"
  }
 },
 "nbformat": 4,
 "nbformat_minor": 2
}
