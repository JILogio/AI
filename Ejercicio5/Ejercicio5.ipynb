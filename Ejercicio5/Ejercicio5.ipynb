{
 "cells": [
  {
   "cell_type": "code",
   "execution_count": 1,
   "metadata": {},
   "outputs": [],
   "source": [
    "import numpy as np\n",
    "import torch\n",
    "from torchegranate.distributions import Categorical\n",
    "from torchegranate.distributions import ConditionalCategorical\n",
    "from torchegranate.bayesian_network import BayesianNetwork\n",
    "\n",
    "line = Categorical([[0.5, 0.3, 0.2]]) #Line 22, 24, 6\n",
    "time_of_day = Categorical([[0.5, 0.5]]) # Day or Night (50% chance)\n",
    "wagons = ConditionalCategorical(np.array([[\n",
    "    #Line 22\n",
    "    [[0.3, 0.7], [0.1, 0.9]], #Day/Night\n",
    "    #Line 24\n",
    "    [[0.2, 0.8], [0.2, 0.8]],\n",
    "    #Line 6\n",
    "    [[0.9, 0.1], [1.0, 0.0]]\n",
    "]]))\n",
    "destination = ConditionalCategorical(np.array([\n",
    "    #Line 22\n",
    "    [[0.1, 0.9],\n",
    "    #Line 24\n",
    "     [0.9, 0.1],\n",
    "    #Line 6\n",
    "     [0.1, 0.9]]\n",
    "]))\n",
    "\n",
    "model = BayesianNetwork([line, time_of_day, wagons, destination], [(line, wagons), (time_of_day, wagons), (line, destination)])"
   ]
  },
  {
   "cell_type": "code",
   "execution_count": 2,
   "metadata": {},
   "outputs": [
    {
     "name": "stderr",
     "output_type": "stream",
     "text": [
      "c:\\Users\\Ismael\\AppData\\Local\\Programs\\Python\\Python312\\Lib\\site-packages\\torch\\masked\\maskedtensor\\core.py:156: UserWarning: The PyTorch API of MaskedTensors is in prototype stage and will change in the near future. Please open a Github issue for features requests and see our documentation on the torch.masked module for further information about the project.\n",
      "  warnings.warn((\"The PyTorch API of MaskedTensors is in prototype stage \"\n"
     ]
    },
    {
     "data": {
      "text/plain": [
       "[tensor([[0.1613, 0.1935, 0.6452]]),\n",
       " tensor([[0., 1.]]),\n",
       " tensor([[1., 0.]]),\n",
       " tensor([[0.2548, 0.7452]])]"
      ]
     },
     "execution_count": 2,
     "metadata": {},
     "output_type": "execute_result"
    }
   ],
   "source": [
    "#Night scenario with a single wagon\n",
    "X = torch.masked.masked_tensor(torch.tensor([[-1, 1, 0, -1]]),\n",
    "                               mask=torch.tensor([[False, True, True, False]]))\n",
    "model.predict_proba(X)"
   ]
  },
  {
   "cell_type": "code",
   "execution_count": 3,
   "metadata": {},
   "outputs": [
    {
     "data": {
      "text/plain": [
       "[tensor([[1., 0., 0.]]),\n",
       " tensor([[0.5000, 0.5000]]),\n",
       " tensor([[0.2000, 0.8000]]),\n",
       " tensor([[0., 1.]])]"
      ]
     },
     "execution_count": 3,
     "metadata": {},
     "output_type": "execute_result"
    }
   ],
   "source": [
    "#Number of wagons on Line 22 on destination\n",
    "X = torch.masked.masked_tensor(torch.tensor([[0, -1, -1, 1]]),\n",
    "                               mask=torch.tensor([[True, False, False, True]]))\n",
    "model.predict_proba(X)"
   ]
  }
 ],
 "metadata": {
  "kernelspec": {
   "display_name": "Python 3",
   "language": "python",
   "name": "python3"
  },
  "language_info": {
   "codemirror_mode": {
    "name": "ipython",
    "version": 3
   },
   "file_extension": ".py",
   "mimetype": "text/x-python",
   "name": "python",
   "nbconvert_exporter": "python",
   "pygments_lexer": "ipython3",
   "version": "3.12.1"
  }
 },
 "nbformat": 4,
 "nbformat_minor": 2
}
