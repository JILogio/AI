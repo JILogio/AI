{
 "cells": [
  {
   "cell_type": "code",
   "execution_count": 1,
   "metadata": {},
   "outputs": [],
   "source": [
    "import sympy"
   ]
  },
  {
   "cell_type": "code",
   "execution_count": 2,
   "metadata": {},
   "outputs": [
    {
     "name": "stdout",
     "output_type": "stream",
     "text": [
      "CNF:  (P | R | ~S) & (R | ~Q | ~S)\n"
     ]
    }
   ],
   "source": [
    "P, Q, R, S = sympy.symbols('P Q R S')\n",
    "formula = (S >> (~R >> (~Q & P)))\n",
    "cnf1 = sympy.to_cnf(formula)\n",
    "print(\"CNF: \", cnf1)"
   ]
  },
  {
   "cell_type": "code",
   "execution_count": 6,
   "metadata": {},
   "outputs": [
    {
     "name": "stdout",
     "output_type": "stream",
     "text": [
      "Satisfable:  {P: True, R: False, Q: False}\n"
     ]
    }
   ],
   "source": [
    "formula = ((P | Q) & ~Q & (~P | Q | ~R))\n",
    "#formula = ((P | Q | ~R) & (P | ~Q) & ~P & R & S)\n",
    "sat = sympy.satisfiable(formula)\n",
    "if sat:\n",
    "    print(\"Satisfable: \", sat)\n",
    "else:\n",
    "    print(\"Unsatisfable.\")"
   ]
  },
  {
   "cell_type": "code",
   "execution_count": 4,
   "metadata": {},
   "outputs": [
    {
     "name": "stdout",
     "output_type": "stream",
     "text": [
      "kb |= theorem\n"
     ]
    }
   ],
   "source": [
    "kb = (P & (R | Q))\n",
    "theorem = ((P & R) | (P & Q))\n",
    "if sympy.satisfiable(kb & ~theorem):\n",
    "    print(\"kb NO |= theorem\")\n",
    "else:\n",
    "    print(\"kb |= theorem\")"
   ]
  }
 ],
 "metadata": {
  "kernelspec": {
   "display_name": "Python 3",
   "language": "python",
   "name": "python3"
  },
  "language_info": {
   "codemirror_mode": {
    "name": "ipython",
    "version": 3
   },
   "file_extension": ".py",
   "mimetype": "text/x-python",
   "name": "python",
   "nbconvert_exporter": "python",
   "pygments_lexer": "ipython3",
   "version": "3.12.2"
  }
 },
 "nbformat": 4,
 "nbformat_minor": 2
}
