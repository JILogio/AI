{
 "cells": [
  {
   "cell_type": "code",
   "execution_count": 1,
   "metadata": {},
   "outputs": [],
   "source": [
    "import sympy\n",
    "\n",
    "P, Q, R, S = sympy.symbols('P Q R S')"
   ]
  },
  {
   "cell_type": "code",
   "execution_count": null,
   "metadata": {},
   "outputs": [],
   "source": [
    "formula = ((P | Q) >> (P & Q))\n",
    "cnf1 = sympy.to_cnf(formula)\n",
    "dnf1 = sympy.to_dnf(formula)\n",
    "nnf1 = sympy.to_nnf(formula)\n",
    "print(\"CNF: \", cnf1)\n",
    "print(\"DNF: \", dnf1)\n",
    "print(\"NNF: \", nnf1)"
   ]
  },
  {
   "cell_type": "code",
   "execution_count": null,
   "metadata": {},
   "outputs": [],
   "source": [
    "formula = (P & (P | Q) & (~P & Q))\n",
    "#formula = ((P | Q | ~R) & (P | ~Q) & ~P & R & S)\n",
    "sat = sympy.satisfiable(formula)\n",
    "if sat:\n",
    "    print(\"Satisfable: \", sat)\n",
    "else:\n",
    "    print(\"Unsatisfable.\")"
   ]
  },
  {
   "cell_type": "code",
   "execution_count": null,
   "metadata": {},
   "outputs": [],
   "source": [
    "kb = ((P & Q) & (P >> R) & ((Q & R) >> S))\n",
    "theorem = (S)\n",
    "if sympy.satisfiable(kb & ~theorem):\n",
    "    print(\"kb NO |= theorem\")\n",
    "else:\n",
    "    print(\"kb |= theorem\")"
   ]
  }
 ],
 "metadata": {
  "kernelspec": {
   "display_name": "Python 3",
   "language": "python",
   "name": "python3"
  },
  "language_info": {
   "codemirror_mode": {
    "name": "ipython",
    "version": 3
   },
   "file_extension": ".py",
   "mimetype": "text/x-python",
   "name": "python",
   "nbconvert_exporter": "python",
   "pygments_lexer": "ipython3",
   "version": "3.12.1"
  }
 },
 "nbformat": 4,
 "nbformat_minor": 2
}
